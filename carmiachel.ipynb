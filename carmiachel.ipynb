{
 "cells": [
  {
   "cell_type": "code",
   "execution_count": null,
   "metadata": {},
   "outputs": [],
   "source": [
    "# @Author : Anirudh Sathish "
   ]
  },
  {
   "cell_type": "markdown",
   "metadata": {},
   "source": [
    "The given program identifies , if a given number is a carmiachel number"
   ]
  },
  {
   "cell_type": "code",
   "execution_count": 20,
   "metadata": {},
   "outputs": [],
   "source": [
    "# Defining Packages\n",
    "import math "
   ]
  },
  {
   "cell_type": "markdown",
   "metadata": {},
   "source": [
    "Defining a class Carmiachel Number "
   ]
  },
  {
   "cell_type": "code",
   "execution_count": 21,
   "metadata": {},
   "outputs": [],
   "source": [
    "class carmiachelNumbers(object):\n",
    "    # Initilizing values \n",
    "    def __init__(self,inputNumber):\n",
    "        self.NumberToBeTested = inputNumber\n",
    "    def isOdd(self):\n",
    "        #Function checks if given number is odd \n",
    "        if(self.NumberToBeTested %2) == 0:\n",
    "            return False\n",
    "        else:\n",
    "            return True\n",
    "    def isCompositeMethod1(self):\n",
    "        #Function to check if the number is composite or prime \n",
    "        rootOfNumber = math.sqrt(self.NumberToBeTested)\n",
    "        i = 2\n",
    "        while( i <= rootOfNumber):\n",
    "            if(self.NumberToBeTested%i == 0):\n",
    "                return True\n",
    "            i+=1\n",
    "        return False\n",
    "    def FindGCD(self,numberForTest ,iteratingNumber):\n",
    "        #Finds gcd of two numbers \n",
    "        if(iteratingNumber == 0):\n",
    "            return numberForTest\n",
    "        else:\n",
    "            return self.FindGCD(iteratingNumber,numberForTest%iteratingNumber)\n",
    "    def appropriateGCD(self,HCF_test):\n",
    "        #Function checks if the HCF of two numbers is 1\n",
    "        #Which is a criterion in fermat's test \n",
    "        if(HCF_test == 1):\n",
    "            return True\n",
    "        return False\n",
    "    def FermatTestResult(self , iteratingNumber , raisedPower , modvalue):\n",
    "        #Performing Fermat's test \n",
    "        if(raisedPower == 0):\n",
    "            return 1\n",
    "        #Keep on reducing the number \n",
    "        RHS = self.FermatTestResult(iteratingNumber,raisedPower//2,modvalue)%modvalue\n",
    "        RHS = (RHS*RHS) % modvalue\n",
    "        if(raisedPower %2 == 1):\n",
    "            RHS = (RHS*iteratingNumber) % modvalue\n",
    "        return RHS\n",
    "        \n",
    "    def isPassedFermatTest(self,iteratingNumber , raisedPower ,modvalue):\n",
    "        RHS = self.FermatTestResult(iteratingNumber,raisedPower,modvalue)\n",
    "        if(RHS ==1):\n",
    "            return True\n",
    "        return False\n",
    "    \n",
    "    def FinalTest(self):\n",
    "        number = self.NumberToBeTested\n",
    "        for i in range(2,number):\n",
    "            HCF = self.FindGCD(number,i)\n",
    "            TheResult = self.appropriateGCD(HCF)\n",
    "            fermatResult = self.isPassedFermatTest(i,number-1, number)\n",
    "            if(TheResult == True):\n",
    "                if(fermatResult == False):\n",
    "                    return False\n",
    "        return True\n",
    "    #Printing on basis -> \n",
    "    def Print(self,status):\n",
    "        if(status == 1):\n",
    "            print(\"The number \",self.NumberToBeTested,\" is a carmiachel number \")\n",
    "        elif(status == 0):\n",
    "            print(\"The number \",self.NumberToBeTested,\" is not a carmiachel number\")"
   ]
  },
  {
   "cell_type": "code",
   "execution_count": 22,
   "metadata": {},
   "outputs": [
    {
     "name": "stdout",
     "output_type": "stream",
     "text": [
      "The number  561  is a carmiachel number \n"
     ]
    }
   ],
   "source": [
    "#Running the body\n",
    "\n",
    "#Taking input \n",
    "inputNumber = int(input(\"Enter the number \"))\n",
    "\n",
    "#Initalizing the object\n",
    "numberSystem = carmiachelNumbers(inputNumber)\n",
    "\n",
    "level1Test = numberSystem.isOdd()\n",
    "if(level1Test == False):\n",
    "    numberSystem.Print(0)\n",
    "else:\n",
    "    level2Test = numberSystem.isCompositeMethod1()\n",
    "    if(level2Test == False):\n",
    "        numberSystem.Print(0)\n",
    "    else:\n",
    "        final = numberSystem.FinalTest()\n",
    "        if(final == False):\n",
    "            numberSystem.Print(0)\n",
    "        else:\n",
    "            numberSystem.Print(1)\n"
   ]
  },
  {
   "cell_type": "code",
   "execution_count": null,
   "metadata": {},
   "outputs": [],
   "source": []
  }
 ],
 "metadata": {
  "kernelspec": {
   "display_name": "Python 3.8.8 ('base')",
   "language": "python",
   "name": "python3"
  },
  "language_info": {
   "codemirror_mode": {
    "name": "ipython",
    "version": 3
   },
   "file_extension": ".py",
   "mimetype": "text/x-python",
   "name": "python",
   "nbconvert_exporter": "python",
   "pygments_lexer": "ipython3",
   "version": "3.8.8"
  },
  "orig_nbformat": 4,
  "vscode": {
   "interpreter": {
    "hash": "2f3eb0242237f7482054201cdc0254386ced23c6e95d6945cb90bc9b5b8e1362"
   }
  }
 },
 "nbformat": 4,
 "nbformat_minor": 2
}
